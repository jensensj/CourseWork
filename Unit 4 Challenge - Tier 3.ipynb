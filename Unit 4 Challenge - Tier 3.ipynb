{
 "cells": [
  {
   "cell_type": "markdown",
   "metadata": {
    "colab_type": "text",
    "id": "Tia3MP1SJpgj"
   },
   "source": [
    "# Springboard Data Science Career Track Unit 4 Challenge - Tier 3 Complete\n",
    "\n",
    "## Objectives\n",
    "Hey! Great job getting through those challenging DataCamp courses. You're learning a lot in a short span of time. \n",
    "\n",
    "In this notebook, you're going to apply the skills you've been learning, bridging the gap between the controlled environment of DataCamp and the *slightly* messier work that data scientists do with actual datasets!\n",
    "\n",
    "Here’s the mystery we’re going to solve: ***which boroughs of London have seen the greatest increase in housing prices, on average, over the last two decades?***\n",
    "\n",
    "\n",
    "A borough is just a fancy word for district. You may be familiar with the five boroughs of New York… well, there are 32 boroughs within Greater London [(here's some info for the curious)](https://en.wikipedia.org/wiki/London_boroughs). Some of them are more desirable areas to live in, and the data will reflect that with a greater rise in housing prices.\n",
    "\n",
    "***This is the Tier 3 notebook, which means it's not filled in at all: we'll just give you the skeleton of a project, the brief and the data. It's up to you to play around with it and see what you can find out! Good luck! If you struggle, feel free to look at easier tiers for help; but try to dip in and out of them, as the more independent work you do, the better it is for your learning!***\n",
    "\n",
    "This challenge will make use of only what you learned in the following DataCamp courses: \n",
    "- Prework courses (Introduction to Python for Data Science, Intermediate Python for Data Science)\n",
    "- Data Types for Data Science\n",
    "- Python Data Science Toolbox (Part One) \n",
    "- pandas Foundations\n",
    "- Manipulating DataFrames with pandas\n",
    "- Merging DataFrames with pandas\n",
    "\n",
    "Of the tools, techniques and concepts in the above DataCamp courses, this challenge should require the application of the following: \n",
    "- **pandas**\n",
    "    - **data ingestion and inspection** (pandas Foundations, Module One) \n",
    "    - **exploratory data analysis** (pandas Foundations, Module Two)\n",
    "    - **tidying and cleaning** (Manipulating DataFrames with pandas, Module Three) \n",
    "    - **transforming DataFrames** (Manipulating DataFrames with pandas, Module One)\n",
    "    - **subsetting DataFrames with lists** (Manipulating DataFrames with pandas, Module One) \n",
    "    - **filtering DataFrames** (Manipulating DataFrames with pandas, Module One) \n",
    "    - **grouping data** (Manipulating DataFrames with pandas, Module Four) \n",
    "    - **melting data** (Manipulating DataFrames with pandas, Module Three) \n",
    "    - **advanced indexing** (Manipulating DataFrames with pandas, Module Four) \n",
    "- **matplotlib** (Intermediate Python for Data Science, Module One)\n",
    "- **fundamental data types** (Data Types for Data Science, Module One) \n",
    "- **dictionaries** (Intermediate Python for Data Science, Module Two)\n",
    "- **handling dates and times** (Data Types for Data Science, Module Four)\n",
    "- **function definition** (Python Data Science Toolbox - Part One, Module One)\n",
    "- **default arguments, variable length, and scope** (Python Data Science Toolbox - Part One, Module Two) \n",
    "- **lambda functions and error handling** (Python Data Science Toolbox - Part One, Module Four) "
   ]
  },
  {
   "cell_type": "markdown",
   "metadata": {
    "colab_type": "text",
    "id": "Ipgd2nV8Jpgl"
   },
   "source": [
    "## The Data Science Pipeline\n",
    "\n",
    "This is Tier Three, so we'll get you started. But after that, it's all in your hands! When you feel done with your investigations, look back over what you've accomplished, and prepare a quick presentation of your findings for the next mentor meeting. \n",
    "\n",
    "Data Science is magical. In this case study, you'll get to apply some complex machine learning algorithms. But as  [David Spiegelhalter](https://www.youtube.com/watch?v=oUs1uvsz0Ok) reminds us, there is no substitute for simply **taking a really, really good look at the data.** Sometimes, this is all we need to answer our question.\n",
    "\n",
    "Data Science projects generally adhere to the four stages of Data Science Pipeline:\n",
    "1. Sourcing and loading \n",
    "2. Cleaning, transforming, and visualizing \n",
    "3. Modeling \n",
    "4. Evaluating and concluding \n"
   ]
  },
  {
   "cell_type": "markdown",
   "metadata": {
    "colab_type": "text",
    "id": "zswDqbefJpgm"
   },
   "source": [
    "### 1. Sourcing and Loading \n",
    "\n",
    "Any Data Science project kicks off by importing  ***pandas***. The documentation of this wonderful library can be found [here](https://pandas.pydata.org/). As you've seen, pandas is conveniently connected to the [Numpy](http://www.numpy.org/) and [Matplotlib](https://matplotlib.org/) libraries. \n",
    "\n",
    "***Hint:*** This part of the data science pipeline will test those skills you acquired in the pandas Foundations course, Module One. "
   ]
  },
  {
   "cell_type": "markdown",
   "metadata": {
    "colab_type": "text",
    "id": "aEau5nEvJpgm"
   },
   "source": [
    "#### 1.1. Importing Libraries"
   ]
  },
  {
   "cell_type": "code",
   "execution_count": 71,
   "metadata": {
    "colab": {},
    "colab_type": "code",
    "id": "7Bt_Q_oPJpgn"
   },
   "outputs": [],
   "source": [
    "# Let's import the pandas, numpy libraries as pd, and np respectively. \n",
    "import pandas as pd\n",
    "import numpy as np\n",
    "# Load the pyplot collection of functions from matplotlib, as plt \n",
    "from matplotlib import pyplot as plt\n",
    "from matplotlib import patches as mpatches"
   ]
  },
  {
   "cell_type": "markdown",
   "metadata": {
    "colab_type": "text",
    "id": "koUrawxsJpgq"
   },
   "source": [
    "#### 1.2.  Loading the data\n",
    "Your data comes from the [London Datastore](https://data.london.gov.uk/): a free, open-source data-sharing portal for London-oriented datasets. "
   ]
  },
  {
   "cell_type": "code",
   "execution_count": 72,
   "metadata": {
    "colab": {},
    "colab_type": "code",
    "id": "AiLiD4v3Jpgr"
   },
   "outputs": [],
   "source": [
    "# First, make a variable called url_LondonHousePrices, and assign it the following link, enclosed in quotation-marks as a string:\n",
    "# https://data.london.gov.uk/download/uk-house-price-index/70ac0766-8902-4eb5-aab5-01951aaed773/UK%20House%20price%20index.xls\n",
    "\n",
    "url_LondonHousePrices = \"https://data.london.gov.uk/download/uk-house-price-index/70ac0766-8902-4eb5-aab5-01951aaed773/UK%20House%20price%20index.xls\"\n",
    "\n",
    "# The dataset we're interested in contains the Average prices of the houses, and is actually on a particular sheet of the Excel file. \n",
    "# As a result, we need to specify the sheet name in the read_excel() method.\n",
    "# Put this data into a variable called properties.  \n",
    "properties = pd.read_excel(url_LondonHousePrices, sheet_name='Average price', index_col= None)"
   ]
  },
  {
   "cell_type": "markdown",
   "metadata": {
    "colab_type": "text",
    "id": "POukEJXgJpgu"
   },
   "source": [
    "### 2. Cleaning, transforming, and visualizing\n",
    "This second stage is arguably the most important part of any Data Science project. The first thing to do is take a proper look at the data. Cleaning forms the majority of this stage, and can be done both before or after Transformation.\n",
    "\n",
    "The end goal of data cleaning is to have tidy data. When data is tidy: \n",
    "\n",
    "1. Each variable has a column.\n",
    "2. Each observation forms a row.\n",
    "\n",
    "Keep the end goal in mind as you move through this process, every step will take you closer. \n",
    "\n",
    "\n",
    "\n",
    "***Hint:*** This part of the data science pipeline should test those skills you acquired in: \n",
    "- Intermediate Python for data science, all modules.\n",
    "- pandas Foundations, all modules. \n",
    "- Manipulating DataFrames with pandas, all modules.\n",
    "- Data Types for Data Science, Module Four.\n",
    "- Python Data Science Toolbox - Part One, all modules"
   ]
  },
  {
   "cell_type": "markdown",
   "metadata": {
    "colab_type": "text",
    "id": "Te0Q548tnzZa"
   },
   "source": [
    "**2.1. Exploring your data** \n",
    "\n",
    "Think about your pandas functions for checking out a dataframe. "
   ]
  },
  {
   "cell_type": "code",
   "execution_count": 73,
   "metadata": {
    "colab": {},
    "colab_type": "code",
    "id": "Rxirxw_qoAJa"
   },
   "outputs": [
    {
     "data": {
      "text/html": [
       "<div>\n",
       "<style scoped>\n",
       "    .dataframe tbody tr th:only-of-type {\n",
       "        vertical-align: middle;\n",
       "    }\n",
       "\n",
       "    .dataframe tbody tr th {\n",
       "        vertical-align: top;\n",
       "    }\n",
       "\n",
       "    .dataframe thead th {\n",
       "        text-align: right;\n",
       "    }\n",
       "</style>\n",
       "<table border=\"1\" class=\"dataframe\">\n",
       "  <thead>\n",
       "    <tr style=\"text-align: right;\">\n",
       "      <th></th>\n",
       "      <th>Unnamed: 0</th>\n",
       "      <th>City of London</th>\n",
       "      <th>Barking &amp; Dagenham</th>\n",
       "      <th>Barnet</th>\n",
       "      <th>Bexley</th>\n",
       "      <th>Brent</th>\n",
       "      <th>Bromley</th>\n",
       "      <th>Camden</th>\n",
       "      <th>Croydon</th>\n",
       "      <th>Ealing</th>\n",
       "      <th>...</th>\n",
       "      <th>NORTH WEST</th>\n",
       "      <th>YORKS &amp; THE HUMBER</th>\n",
       "      <th>EAST MIDLANDS</th>\n",
       "      <th>WEST MIDLANDS</th>\n",
       "      <th>EAST OF ENGLAND</th>\n",
       "      <th>LONDON</th>\n",
       "      <th>SOUTH EAST</th>\n",
       "      <th>SOUTH WEST</th>\n",
       "      <th>Unnamed: 47</th>\n",
       "      <th>England</th>\n",
       "    </tr>\n",
       "  </thead>\n",
       "  <tbody>\n",
       "    <tr>\n",
       "      <th>0</th>\n",
       "      <td>NaT</td>\n",
       "      <td>E09000001</td>\n",
       "      <td>E09000002</td>\n",
       "      <td>E09000003</td>\n",
       "      <td>E09000004</td>\n",
       "      <td>E09000005</td>\n",
       "      <td>E09000006</td>\n",
       "      <td>E09000007</td>\n",
       "      <td>E09000008</td>\n",
       "      <td>E09000009</td>\n",
       "      <td>...</td>\n",
       "      <td>E12000002</td>\n",
       "      <td>E12000003</td>\n",
       "      <td>E12000004</td>\n",
       "      <td>E12000005</td>\n",
       "      <td>E12000006</td>\n",
       "      <td>E12000007</td>\n",
       "      <td>E12000008</td>\n",
       "      <td>E12000009</td>\n",
       "      <td>NaN</td>\n",
       "      <td>E92000001</td>\n",
       "    </tr>\n",
       "    <tr>\n",
       "      <th>1</th>\n",
       "      <td>1995-01-01</td>\n",
       "      <td>91449</td>\n",
       "      <td>50460.2</td>\n",
       "      <td>93284.5</td>\n",
       "      <td>64958.1</td>\n",
       "      <td>71306.6</td>\n",
       "      <td>81671.5</td>\n",
       "      <td>120933</td>\n",
       "      <td>69158.2</td>\n",
       "      <td>79885.9</td>\n",
       "      <td>...</td>\n",
       "      <td>43958.5</td>\n",
       "      <td>44803.4</td>\n",
       "      <td>45544.5</td>\n",
       "      <td>48527.5</td>\n",
       "      <td>56701.6</td>\n",
       "      <td>74435.8</td>\n",
       "      <td>64018.9</td>\n",
       "      <td>54705.2</td>\n",
       "      <td>NaN</td>\n",
       "      <td>53202.8</td>\n",
       "    </tr>\n",
       "    <tr>\n",
       "      <th>2</th>\n",
       "      <td>1995-02-01</td>\n",
       "      <td>82202.8</td>\n",
       "      <td>51085.8</td>\n",
       "      <td>93190.2</td>\n",
       "      <td>64787.9</td>\n",
       "      <td>72022.3</td>\n",
       "      <td>81657.6</td>\n",
       "      <td>119509</td>\n",
       "      <td>68951.1</td>\n",
       "      <td>80897.1</td>\n",
       "      <td>...</td>\n",
       "      <td>43925.4</td>\n",
       "      <td>44528.8</td>\n",
       "      <td>46051.6</td>\n",
       "      <td>49341.3</td>\n",
       "      <td>56593.6</td>\n",
       "      <td>72777.9</td>\n",
       "      <td>63715</td>\n",
       "      <td>54356.1</td>\n",
       "      <td>NaN</td>\n",
       "      <td>53096.2</td>\n",
       "    </tr>\n",
       "    <tr>\n",
       "      <th>3</th>\n",
       "      <td>1995-03-01</td>\n",
       "      <td>79120.7</td>\n",
       "      <td>51269</td>\n",
       "      <td>92247.5</td>\n",
       "      <td>64367.5</td>\n",
       "      <td>72015.8</td>\n",
       "      <td>81449.3</td>\n",
       "      <td>120282</td>\n",
       "      <td>68712.4</td>\n",
       "      <td>81379.9</td>\n",
       "      <td>...</td>\n",
       "      <td>44434.9</td>\n",
       "      <td>45200.5</td>\n",
       "      <td>45383.8</td>\n",
       "      <td>49442.2</td>\n",
       "      <td>56171.2</td>\n",
       "      <td>73896.8</td>\n",
       "      <td>64113.6</td>\n",
       "      <td>53583.1</td>\n",
       "      <td>NaN</td>\n",
       "      <td>53201.3</td>\n",
       "    </tr>\n",
       "    <tr>\n",
       "      <th>4</th>\n",
       "      <td>1995-04-01</td>\n",
       "      <td>77101.2</td>\n",
       "      <td>53133.5</td>\n",
       "      <td>90762.9</td>\n",
       "      <td>64277.7</td>\n",
       "      <td>72965.6</td>\n",
       "      <td>81124.4</td>\n",
       "      <td>120098</td>\n",
       "      <td>68610</td>\n",
       "      <td>82188.9</td>\n",
       "      <td>...</td>\n",
       "      <td>44267.8</td>\n",
       "      <td>45614.3</td>\n",
       "      <td>46124.2</td>\n",
       "      <td>49455.9</td>\n",
       "      <td>56567.9</td>\n",
       "      <td>74455.3</td>\n",
       "      <td>64623.2</td>\n",
       "      <td>54786</td>\n",
       "      <td>NaN</td>\n",
       "      <td>53590.9</td>\n",
       "    </tr>\n",
       "  </tbody>\n",
       "</table>\n",
       "<p>5 rows × 49 columns</p>\n",
       "</div>"
      ],
      "text/plain": [
       "  Unnamed: 0 City of London Barking & Dagenham     Barnet     Bexley  \\\n",
       "0        NaT      E09000001          E09000002  E09000003  E09000004   \n",
       "1 1995-01-01          91449            50460.2    93284.5    64958.1   \n",
       "2 1995-02-01        82202.8            51085.8    93190.2    64787.9   \n",
       "3 1995-03-01        79120.7              51269    92247.5    64367.5   \n",
       "4 1995-04-01        77101.2            53133.5    90762.9    64277.7   \n",
       "\n",
       "       Brent    Bromley     Camden    Croydon     Ealing  ... NORTH WEST  \\\n",
       "0  E09000005  E09000006  E09000007  E09000008  E09000009  ...  E12000002   \n",
       "1    71306.6    81671.5     120933    69158.2    79885.9  ...    43958.5   \n",
       "2    72022.3    81657.6     119509    68951.1    80897.1  ...    43925.4   \n",
       "3    72015.8    81449.3     120282    68712.4    81379.9  ...    44434.9   \n",
       "4    72965.6    81124.4     120098      68610    82188.9  ...    44267.8   \n",
       "\n",
       "  YORKS & THE HUMBER EAST MIDLANDS WEST MIDLANDS EAST OF ENGLAND     LONDON  \\\n",
       "0          E12000003     E12000004     E12000005       E12000006  E12000007   \n",
       "1            44803.4       45544.5       48527.5         56701.6    74435.8   \n",
       "2            44528.8       46051.6       49341.3         56593.6    72777.9   \n",
       "3            45200.5       45383.8       49442.2         56171.2    73896.8   \n",
       "4            45614.3       46124.2       49455.9         56567.9    74455.3   \n",
       "\n",
       "  SOUTH EAST SOUTH WEST Unnamed: 47    England  \n",
       "0  E12000008  E12000009         NaN  E92000001  \n",
       "1    64018.9    54705.2         NaN    53202.8  \n",
       "2      63715    54356.1         NaN    53096.2  \n",
       "3    64113.6    53583.1         NaN    53201.3  \n",
       "4    64623.2      54786         NaN    53590.9  \n",
       "\n",
       "[5 rows x 49 columns]"
      ]
     },
     "execution_count": 73,
     "metadata": {},
     "output_type": "execute_result"
    }
   ],
   "source": [
    "properties.head()\n"
   ]
  },
  {
   "cell_type": "markdown",
   "metadata": {
    "colab_type": "text",
    "id": "tE9Sqt9-oAta"
   },
   "source": [
    "**2.2. Cleaning the data**\n",
    "\n",
    "You might find you need to transpose your dataframe, check out what its row indexes are, and reset the index. You  also might find you need to assign the values of the first row to your column headings  . (Hint: recall the .columns feature of DataFrames, as well as the iloc[] method).\n",
    "\n",
    "Don't be afraid to use StackOverflow for help  with this."
   ]
  },
  {
   "cell_type": "code",
   "execution_count": 74,
   "metadata": {
    "colab": {},
    "colab_type": "code",
    "id": "cdAu1A3YoH_r"
   },
   "outputs": [],
   "source": [
    "properties = properties.transpose().reset_index()"
   ]
  },
  {
   "cell_type": "code",
   "execution_count": 75,
   "metadata": {},
   "outputs": [],
   "source": [
    "properties.columns = properties.iloc[0]"
   ]
  },
  {
   "cell_type": "code",
   "execution_count": 76,
   "metadata": {},
   "outputs": [],
   "source": [
    "properties = properties.drop(properties.index[0]).reset_index(drop=True)"
   ]
  },
  {
   "cell_type": "markdown",
   "metadata": {
    "colab_type": "text",
    "id": "o1uLbJAsoIjK"
   },
   "source": [
    "**2.3. Cleaning the data (part 2)**\n",
    "\n",
    "You might we have to **rename** a couple columns. How do you do this? The clue's pretty bold..."
   ]
  },
  {
   "cell_type": "code",
   "execution_count": 77,
   "metadata": {
    "colab": {},
    "colab_type": "code",
    "id": "GKkmn1AnoVZS"
   },
   "outputs": [],
   "source": [
    "properties.rename(columns = {'Unnamed: 0':'borough'}, inplace = True)"
   ]
  },
  {
   "cell_type": "code",
   "execution_count": 78,
   "metadata": {},
   "outputs": [],
   "source": [
    "properties.columns = properties.columns.fillna('number')"
   ]
  },
  {
   "cell_type": "markdown",
   "metadata": {
    "colab_type": "text",
    "id": "jy8BzXHmoWEw"
   },
   "source": [
    "**2.4.Transforming the data**\n",
    "\n",
    "Remember what Wes McKinney said about tidy data? \n",
    "\n",
    "You might need to **melt** your DataFrame here. "
   ]
  },
  {
   "cell_type": "markdown",
   "metadata": {},
   "source": []
  },
  {
   "cell_type": "code",
   "execution_count": 79,
   "metadata": {},
   "outputs": [],
   "source": [
    "properties = pd.melt(properties, id_vars=['borough','number'],var_name='month',value_name='price')"
   ]
  },
  {
   "cell_type": "markdown",
   "metadata": {
    "colab_type": "text",
    "id": "7kIsgAo7o3mf"
   },
   "source": [
    "Remember to make sure your column data types are all correct. Average prices, for example, should be floating point numbers... "
   ]
  },
  {
   "cell_type": "code",
   "execution_count": 80,
   "metadata": {
    "colab": {},
    "colab_type": "code",
    "id": "ZcR4IHbcpOaq"
   },
   "outputs": [],
   "source": [
    "properties['price'] = pd.to_numeric(properties['price'], errors='coerce')"
   ]
  },
  {
   "cell_type": "code",
   "execution_count": 81,
   "metadata": {},
   "outputs": [
    {
     "data": {
      "text/plain": [
       "borough            object\n",
       "number             object\n",
       "month      datetime64[ns]\n",
       "price             float64\n",
       "dtype: object"
      ]
     },
     "execution_count": 81,
     "metadata": {},
     "output_type": "execute_result"
    }
   ],
   "source": [
    "properties.dtypes"
   ]
  },
  {
   "cell_type": "code",
   "execution_count": 82,
   "metadata": {},
   "outputs": [
    {
     "data": {
      "text/html": [
       "<div>\n",
       "<style scoped>\n",
       "    .dataframe tbody tr th:only-of-type {\n",
       "        vertical-align: middle;\n",
       "    }\n",
       "\n",
       "    .dataframe tbody tr th {\n",
       "        vertical-align: top;\n",
       "    }\n",
       "\n",
       "    .dataframe thead th {\n",
       "        text-align: right;\n",
       "    }\n",
       "</style>\n",
       "<table border=\"1\" class=\"dataframe\">\n",
       "  <thead>\n",
       "    <tr style=\"text-align: right;\">\n",
       "      <th></th>\n",
       "      <th>borough</th>\n",
       "      <th>number</th>\n",
       "      <th>month</th>\n",
       "      <th>price</th>\n",
       "    </tr>\n",
       "  </thead>\n",
       "  <tbody>\n",
       "    <tr>\n",
       "      <th>14539</th>\n",
       "      <td>LONDON</td>\n",
       "      <td>E12000007</td>\n",
       "      <td>2020-03-01</td>\n",
       "      <td>485794.0806</td>\n",
       "    </tr>\n",
       "    <tr>\n",
       "      <th>14540</th>\n",
       "      <td>SOUTH EAST</td>\n",
       "      <td>E12000008</td>\n",
       "      <td>2020-03-01</td>\n",
       "      <td>323353.0524</td>\n",
       "    </tr>\n",
       "    <tr>\n",
       "      <th>14541</th>\n",
       "      <td>SOUTH WEST</td>\n",
       "      <td>E12000009</td>\n",
       "      <td>2020-03-01</td>\n",
       "      <td>263360.0167</td>\n",
       "    </tr>\n",
       "    <tr>\n",
       "      <th>14542</th>\n",
       "      <td>Unnamed: 47</td>\n",
       "      <td>NaN</td>\n",
       "      <td>2020-03-01</td>\n",
       "      <td>NaN</td>\n",
       "    </tr>\n",
       "    <tr>\n",
       "      <th>14543</th>\n",
       "      <td>England</td>\n",
       "      <td>E92000001</td>\n",
       "      <td>2020-03-01</td>\n",
       "      <td>248271.1877</td>\n",
       "    </tr>\n",
       "  </tbody>\n",
       "</table>\n",
       "</div>"
      ],
      "text/plain": [
       "           borough     number      month        price\n",
       "14539       LONDON  E12000007 2020-03-01  485794.0806\n",
       "14540   SOUTH EAST  E12000008 2020-03-01  323353.0524\n",
       "14541   SOUTH WEST  E12000009 2020-03-01  263360.0167\n",
       "14542  Unnamed: 47        NaN 2020-03-01          NaN\n",
       "14543      England  E92000001 2020-03-01  248271.1877"
      ]
     },
     "execution_count": 82,
     "metadata": {},
     "output_type": "execute_result"
    }
   ],
   "source": [
    "properties.tail()"
   ]
  },
  {
   "cell_type": "markdown",
   "metadata": {
    "colab_type": "text",
    "id": "knLUXHLypOtw"
   },
   "source": [
    "**2.5. Cleaning the data (part 3)**\n",
    "\n",
    "Do we have an equal number of observations in the ID, Average Price, Month, and London Borough columns? Remember that there are only 32 London Boroughs. How many entries do you have in that column? \n",
    "\n",
    "Check out the contents of the London Borough column, and if you find null values, get rid of them however you see fit. "
   ]
  },
  {
   "cell_type": "code",
   "execution_count": 83,
   "metadata": {
    "colab": {},
    "colab_type": "code",
    "id": "BnvTW5a3p0fC"
   },
   "outputs": [],
   "source": [
    "properties = properties.dropna(how='any',axis=0)"
   ]
  },
  {
   "cell_type": "code",
   "execution_count": 84,
   "metadata": {},
   "outputs": [
    {
     "data": {
      "text/plain": [
       "array(['City of London', 'Barking & Dagenham', 'Barnet', 'Bexley',\n",
       "       'Brent', 'Bromley', 'Camden', 'Croydon', 'Ealing', 'Enfield',\n",
       "       'Greenwich', 'Hackney', 'Hammersmith & Fulham', 'Haringey',\n",
       "       'Harrow', 'Havering', 'Hillingdon', 'Hounslow', 'Islington',\n",
       "       'Kensington & Chelsea', 'Kingston upon Thames', 'Lambeth',\n",
       "       'Lewisham', 'Merton', 'Newham', 'Redbridge',\n",
       "       'Richmond upon Thames', 'Southwark', 'Sutton', 'Tower Hamlets',\n",
       "       'Waltham Forest', 'Wandsworth', 'Westminster', 'Inner London',\n",
       "       'Outer London', 'NORTH EAST', 'NORTH WEST', 'YORKS & THE HUMBER',\n",
       "       'EAST MIDLANDS', 'WEST MIDLANDS', 'EAST OF ENGLAND', 'LONDON',\n",
       "       'SOUTH EAST', 'SOUTH WEST', 'England'], dtype=object)"
      ]
     },
     "execution_count": 84,
     "metadata": {},
     "output_type": "execute_result"
    }
   ],
   "source": [
    "properties.borough.unique()"
   ]
  },
  {
   "cell_type": "code",
   "execution_count": 85,
   "metadata": {},
   "outputs": [],
   "source": [
    "burs = ['Barking & Dagenham', 'Barnet', 'Bexley', 'Brent', 'Bromley', 'Camden', 'Croydon', 'Ealing', 'Enfield','Greenwich', 'Hackney', 'Hammersmith & Fulham', 'Haringey','Harrow', 'Havering', 'Hillingdon', 'Hounslow', 'Islington','Kensington & Chelsea', 'Kingston upon Thames', 'Lambeth','Lewisham', 'Merton', 'Newham', 'Redbridge','Richmond upon Thames', 'Southwark', 'Sutton', 'Tower Hamlets','Waltham Forest', 'Wandsworth', 'Westminster']"
   ]
  },
  {
   "cell_type": "code",
   "execution_count": 86,
   "metadata": {},
   "outputs": [
    {
     "data": {
      "text/plain": [
       "32"
      ]
     },
     "execution_count": 86,
     "metadata": {},
     "output_type": "execute_result"
    }
   ],
   "source": [
    "len(burs)"
   ]
  },
  {
   "cell_type": "code",
   "execution_count": 87,
   "metadata": {},
   "outputs": [],
   "source": [
    "just_burs = properties[properties.borough.isin(burs)]"
   ]
  },
  {
   "cell_type": "code",
   "execution_count": 88,
   "metadata": {},
   "outputs": [
    {
     "data": {
      "text/html": [
       "<div>\n",
       "<style scoped>\n",
       "    .dataframe tbody tr th:only-of-type {\n",
       "        vertical-align: middle;\n",
       "    }\n",
       "\n",
       "    .dataframe tbody tr th {\n",
       "        vertical-align: top;\n",
       "    }\n",
       "\n",
       "    .dataframe thead th {\n",
       "        text-align: right;\n",
       "    }\n",
       "</style>\n",
       "<table border=\"1\" class=\"dataframe\">\n",
       "  <thead>\n",
       "    <tr style=\"text-align: right;\">\n",
       "      <th></th>\n",
       "      <th>borough</th>\n",
       "      <th>number</th>\n",
       "      <th>month</th>\n",
       "      <th>price</th>\n",
       "    </tr>\n",
       "  </thead>\n",
       "  <tbody>\n",
       "    <tr>\n",
       "      <th>14524</th>\n",
       "      <td>Sutton</td>\n",
       "      <td>E09000029</td>\n",
       "      <td>2020-03-01</td>\n",
       "      <td>3.774585e+05</td>\n",
       "    </tr>\n",
       "    <tr>\n",
       "      <th>14525</th>\n",
       "      <td>Tower Hamlets</td>\n",
       "      <td>E09000030</td>\n",
       "      <td>2020-03-01</td>\n",
       "      <td>4.726618e+05</td>\n",
       "    </tr>\n",
       "    <tr>\n",
       "      <th>14526</th>\n",
       "      <td>Waltham Forest</td>\n",
       "      <td>E09000031</td>\n",
       "      <td>2020-03-01</td>\n",
       "      <td>4.371533e+05</td>\n",
       "    </tr>\n",
       "    <tr>\n",
       "      <th>14527</th>\n",
       "      <td>Wandsworth</td>\n",
       "      <td>E09000032</td>\n",
       "      <td>2020-03-01</td>\n",
       "      <td>6.248581e+05</td>\n",
       "    </tr>\n",
       "    <tr>\n",
       "      <th>14528</th>\n",
       "      <td>Westminster</td>\n",
       "      <td>E09000033</td>\n",
       "      <td>2020-03-01</td>\n",
       "      <td>1.085013e+06</td>\n",
       "    </tr>\n",
       "  </tbody>\n",
       "</table>\n",
       "</div>"
      ],
      "text/plain": [
       "              borough     number      month         price\n",
       "14524          Sutton  E09000029 2020-03-01  3.774585e+05\n",
       "14525   Tower Hamlets  E09000030 2020-03-01  4.726618e+05\n",
       "14526  Waltham Forest  E09000031 2020-03-01  4.371533e+05\n",
       "14527      Wandsworth  E09000032 2020-03-01  6.248581e+05\n",
       "14528     Westminster  E09000033 2020-03-01  1.085013e+06"
      ]
     },
     "execution_count": 88,
     "metadata": {},
     "output_type": "execute_result"
    }
   ],
   "source": [
    "just_burs.tail()"
   ]
  },
  {
   "cell_type": "markdown",
   "metadata": {
    "colab_type": "text",
    "id": "PGEx6mJsp6dG"
   },
   "source": [
    "**2.6. Visualizing the data**\n",
    "\n",
    "To visualize the data, why not subset on a particular London Borough? Maybe do a line plot of Month against Average Price?"
   ]
  },
  {
   "cell_type": "code",
   "execution_count": 89,
   "metadata": {
    "colab": {},
    "colab_type": "code",
    "id": "nAg5pT9cqHAR"
   },
   "outputs": [],
   "source": [
    "sutton = just_burs[just_burs['borough'] == 'Sutton']"
   ]
  },
  {
   "cell_type": "code",
   "execution_count": 90,
   "metadata": {},
   "outputs": [
    {
     "data": {
      "text/plain": [
       "<matplotlib.axes._subplots.AxesSubplot at 0x11b9452e0>"
      ]
     },
     "execution_count": 90,
     "metadata": {},
     "output_type": "execute_result"
    },
    {
     "data": {
      "image/png": "[encoded data removed]",
      "text/plain": [
       "<Figure size 432x288 with 1 Axes>"
      ]
     },
     "metadata": {
      "needs_background": "light"
     },
     "output_type": "display_data"
    }
   ],
   "source": [
    "sutton.plot(x='month',y='price')"
   ]
  },
  {
   "cell_type": "code",
   "execution_count": 91,
   "metadata": {},
   "outputs": [
    {
     "data": {
      "text/plain": [
       "<matplotlib.axes._subplots.AxesSubplot at 0x11c328190>"
      ]
     },
     "execution_count": 91,
     "metadata": {},
     "output_type": "execute_result"
    },
    {
     "data": {
      "image/png": "[encoded data removed]",
      "text/plain": [
       "<Figure size 432x288 with 1 Axes>"
      ]
     },
     "metadata": {
      "needs_background": "light"
     },
     "output_type": "display_data"
    }
   ],
   "source": [
    "just_burs[just_burs['borough'] == 'Tower Hamlets'].plot(x='month',y='price')"
   ]
  },
  {
   "cell_type": "markdown",
   "metadata": {
    "colab_type": "text",
    "id": "aWTPqSJeqHnC"
   },
   "source": [
    "To limit the number of data points you have, you might want to extract the year from every month value your *Month* column. \n",
    "\n",
    "To this end, you *could* apply a ***lambda function***. Your logic could work as follows:\n",
    "1. look through the `Month` column\n",
    "2. extract the year from each individual value in that column \n",
    "3. store that corresponding year as separate column. \n",
    "\n",
    "Whether you go ahead with this is up to you. Just so long as you answer our initial brief: which boroughs of London have seen the greatest house price increase, on average, over the past two decades? "
   ]
  },
  {
   "cell_type": "code",
   "execution_count": 92,
   "metadata": {
    "colab": {},
    "colab_type": "code",
    "id": "e0DF92cyqnu8"
   },
   "outputs": [
    {
     "name": "stderr",
     "output_type": "stream",
     "text": [
      "<ipython-input-92-2140531f53a8>:1: SettingWithCopyWarning: \n",
      "A value is trying to be set on a copy of a slice from a DataFrame.\n",
      "Try using .loc[row_indexer,col_indexer] = value instead\n",
      "\n",
      "See the caveats in the documentation: https://pandas.pydata.org/pandas-docs/stable/user_guide/indexing.html#returning-a-view-versus-a-copy\n",
      "  just_burs['year'] = pd.DatetimeIndex(just_burs['month']).year\n"
     ]
    }
   ],
   "source": [
    "just_burs['year'] = pd.DatetimeIndex(just_burs['month']).year"
   ]
  },
  {
   "cell_type": "code",
   "execution_count": 93,
   "metadata": {},
   "outputs": [
    {
     "data": {
      "text/html": [
       "<div>\n",
       "<style scoped>\n",
       "    .dataframe tbody tr th:only-of-type {\n",
       "        vertical-align: middle;\n",
       "    }\n",
       "\n",
       "    .dataframe tbody tr th {\n",
       "        vertical-align: top;\n",
       "    }\n",
       "\n",
       "    .dataframe thead th {\n",
       "        text-align: right;\n",
       "    }\n",
       "</style>\n",
       "<table border=\"1\" class=\"dataframe\">\n",
       "  <thead>\n",
       "    <tr style=\"text-align: right;\">\n",
       "      <th></th>\n",
       "      <th>borough</th>\n",
       "      <th>number</th>\n",
       "      <th>month</th>\n",
       "      <th>price</th>\n",
       "      <th>year</th>\n",
       "    </tr>\n",
       "  </thead>\n",
       "  <tbody>\n",
       "    <tr>\n",
       "      <th>1</th>\n",
       "      <td>Barking &amp; Dagenham</td>\n",
       "      <td>E09000002</td>\n",
       "      <td>1995-01-01</td>\n",
       "      <td>50460.22660</td>\n",
       "      <td>1995</td>\n",
       "    </tr>\n",
       "    <tr>\n",
       "      <th>2</th>\n",
       "      <td>Barnet</td>\n",
       "      <td>E09000003</td>\n",
       "      <td>1995-01-01</td>\n",
       "      <td>93284.51832</td>\n",
       "      <td>1995</td>\n",
       "    </tr>\n",
       "    <tr>\n",
       "      <th>3</th>\n",
       "      <td>Bexley</td>\n",
       "      <td>E09000004</td>\n",
       "      <td>1995-01-01</td>\n",
       "      <td>64958.09036</td>\n",
       "      <td>1995</td>\n",
       "    </tr>\n",
       "    <tr>\n",
       "      <th>4</th>\n",
       "      <td>Brent</td>\n",
       "      <td>E09000005</td>\n",
       "      <td>1995-01-01</td>\n",
       "      <td>71306.56698</td>\n",
       "      <td>1995</td>\n",
       "    </tr>\n",
       "    <tr>\n",
       "      <th>5</th>\n",
       "      <td>Bromley</td>\n",
       "      <td>E09000006</td>\n",
       "      <td>1995-01-01</td>\n",
       "      <td>81671.47692</td>\n",
       "      <td>1995</td>\n",
       "    </tr>\n",
       "  </tbody>\n",
       "</table>\n",
       "</div>"
      ],
      "text/plain": [
       "              borough     number      month        price  year\n",
       "1  Barking & Dagenham  E09000002 1995-01-01  50460.22660  1995\n",
       "2              Barnet  E09000003 1995-01-01  93284.51832  1995\n",
       "3              Bexley  E09000004 1995-01-01  64958.09036  1995\n",
       "4               Brent  E09000005 1995-01-01  71306.56698  1995\n",
       "5             Bromley  E09000006 1995-01-01  81671.47692  1995"
      ]
     },
     "execution_count": 93,
     "metadata": {},
     "output_type": "execute_result"
    }
   ],
   "source": [
    "just_burs.head()"
   ]
  },
  {
   "cell_type": "markdown",
   "metadata": {
    "colab_type": "text",
    "id": "2knuTxAEqoJ4"
   },
   "source": [
    "**3. Modeling**\n",
    "\n",
    "Consider creating a function that will calculate a ratio of house prices, comparing the price of a house in 2018 to the price in 1998.\n",
    "\n",
    "Consider calling this function create_price_ratio.\n",
    "\n",
    "You'd want this function to:\n",
    "1. Take a filter of dfg, specifically where this filter constrains the London_Borough, as an argument. For example, one admissible argument should be: dfg[dfg['London_Borough']=='Camden'].\n",
    "2. Get the Average Price for that Borough, for the years 1998 and 2018.\n",
    "4. Calculate the ratio of the Average Price for 1998 divided by the Average Price for 2018.\n",
    "5. Return that ratio.\n",
    "\n",
    "Once you've written this function, you ultimately want to use it to iterate through all the unique London_Boroughs and work out the ratio capturing the difference of house prices between 1998 and 2018.\n",
    "\n",
    "Bear in mind: you don't have to write a function like this if you don't want to. If you can solve the brief otherwise, then great! \n",
    "\n",
    "***Hint***: This section should test the skills you acquired in:\n",
    "- Python Data Science Toolbox - Part One, all modules"
   ]
  },
  {
   "cell_type": "code",
   "execution_count": 94,
   "metadata": {
    "colab": {},
    "colab_type": "code",
    "id": "cKTyr437UgDa"
   },
   "outputs": [],
   "source": [
    "def ratio (bor):\n",
    "    isol = just_burs[just_burs['borough']==bor]\n",
    "    isol=isol.groupby('year').agg('mean')\n",
    "    aprat = isol.loc[2018]/isol.loc[1998]\n",
    "    return aprat.values"
   ]
  },
  {
   "cell_type": "code",
   "execution_count": 95,
   "metadata": {},
   "outputs": [
    {
     "name": "stdout",
     "output_type": "stream",
     "text": [
      "[4.89661861291754, 4.358195917538044, 4.248977046127877, 4.8945544971392865, 4.0947846853338765, 4.935353408884261, 4.201100280024767, 4.311450902121834, 4.26347158349581, 4.763036347329193, 6.198285561008662, 4.137798101936229, 5.134624964136042, 4.0591964329643195, 4.325230371335308, 4.2002730803844575, 3.976409106143329, 4.844048012802298, 5.082465066092464, 4.270549521484271, 4.957751163514063, 5.449221041059685, 4.741273313294604, 5.305390437201879, 4.471182006097364, 4.005161895721457, 5.516485302379376, 4.118522608573157, 4.62670104006116, 5.83475580932281, 4.757709347739269, 5.353565392605413]\n"
     ]
    }
   ],
   "source": [
    "decade_ratios = []\n",
    "for b in burs:\n",
    "    y = ratio(b)\n",
    "    decade_ratios.append(y[0])\n",
    "print(decade_ratios)"
   ]
  },
  {
   "cell_type": "code",
   "execution_count": 96,
   "metadata": {},
   "outputs": [
    {
     "data": {
      "text/plain": [
       "numpy.float64"
      ]
     },
     "execution_count": 96,
     "metadata": {},
     "output_type": "execute_result"
    }
   ],
   "source": [
    "type(decade_ratios[0])"
   ]
  },
  {
   "cell_type": "code",
   "execution_count": 97,
   "metadata": {},
   "outputs": [],
   "source": [
    "final_dict = {'borough': burs, 'decade_ratios': decade_ratios}"
   ]
  },
  {
   "cell_type": "code",
   "execution_count": 98,
   "metadata": {},
   "outputs": [
    {
     "data": {
      "text/plain": [
       "{'borough': ['Barking & Dagenham',\n",
       "  'Barnet',\n",
       "  'Bexley',\n",
       "  'Brent',\n",
       "  'Bromley',\n",
       "  'Camden',\n",
       "  'Croydon',\n",
       "  'Ealing',\n",
       "  'Enfield',\n",
       "  'Greenwich',\n",
       "  'Hackney',\n",
       "  'Hammersmith & Fulham',\n",
       "  'Haringey',\n",
       "  'Harrow',\n",
       "  'Havering',\n",
       "  'Hillingdon',\n",
       "  'Hounslow',\n",
       "  'Islington',\n",
       "  'Kensington & Chelsea',\n",
       "  'Kingston upon Thames',\n",
       "  'Lambeth',\n",
       "  'Lewisham',\n",
       "  'Merton',\n",
       "  'Newham',\n",
       "  'Redbridge',\n",
       "  'Richmond upon Thames',\n",
       "  'Southwark',\n",
       "  'Sutton',\n",
       "  'Tower Hamlets',\n",
       "  'Waltham Forest',\n",
       "  'Wandsworth',\n",
       "  'Westminster'],\n",
       " 'decade_ratios': [4.89661861291754,\n",
       "  4.358195917538044,\n",
       "  4.248977046127877,\n",
       "  4.8945544971392865,\n",
       "  4.0947846853338765,\n",
       "  4.935353408884261,\n",
       "  4.201100280024767,\n",
       "  4.311450902121834,\n",
       "  4.26347158349581,\n",
       "  4.763036347329193,\n",
       "  6.198285561008662,\n",
       "  4.137798101936229,\n",
       "  5.134624964136042,\n",
       "  4.0591964329643195,\n",
       "  4.325230371335308,\n",
       "  4.2002730803844575,\n",
       "  3.976409106143329,\n",
       "  4.844048012802298,\n",
       "  5.082465066092464,\n",
       "  4.270549521484271,\n",
       "  4.957751163514063,\n",
       "  5.449221041059685,\n",
       "  4.741273313294604,\n",
       "  5.305390437201879,\n",
       "  4.471182006097364,\n",
       "  4.005161895721457,\n",
       "  5.516485302379376,\n",
       "  4.118522608573157,\n",
       "  4.62670104006116,\n",
       "  5.83475580932281,\n",
       "  4.757709347739269,\n",
       "  5.353565392605413]}"
      ]
     },
     "execution_count": 98,
     "metadata": {},
     "output_type": "execute_result"
    }
   ],
   "source": [
    "final_dict"
   ]
  },
  {
   "cell_type": "code",
   "execution_count": 99,
   "metadata": {},
   "outputs": [],
   "source": [
    "final_res = pd.DataFrame(final_dict)"
   ]
  },
  {
   "cell_type": "code",
   "execution_count": 100,
   "metadata": {},
   "outputs": [
    {
     "data": {
      "text/plain": [
       "Text(0.5, 1.0, '1998:2008 London Borough Avg. Housing Price Increases')"
      ]
     },
     "execution_count": 100,
     "metadata": {},
     "output_type": "execute_result"
    },
    {
     "data": {
      "image/png": "[encoded data removed]",
      "text/plain": [
       "<Figure size 432x288 with 1 Axes>"
      ]
     },
     "metadata": {
      "needs_background": "light"
     },
     "output_type": "display_data"
    }
   ],
   "source": [
    "final_res.sort_values(by='decade_ratios',ascending=False).plot(kind='bar',x='borough',y='decade_ratios',legend=None)\n",
    "plt.xlabel('London Borough')\n",
    "plt.ylabel('Ratio of Avg. Housing Price Increase')\n",
    "plt.title('1998:2008 London Borough Avg. Housing Price Increases')"
   ]
  },
  {
   "cell_type": "markdown",
   "metadata": {},
   "source": [
    "#  Extra Analysis"
   ]
  },
  {
   "cell_type": "markdown",
   "metadata": {},
   "source": [
    "Statistical Questions: Do inner London Boroughs see greater increases comopared to outer London? Are the distributions spread out or within a narrow range? "
   ]
  },
  {
   "cell_type": "code",
   "execution_count": 101,
   "metadata": {},
   "outputs": [],
   "source": [
    "y_1998 = []\n",
    "y_2018 = []\n",
    "for i in burs:\n",
    "    isol = just_burs[just_burs['borough']==i]\n",
    "    isol=isol.groupby('year').agg('mean')\n",
    "    y_1998.append(isol.loc[1998].values[0])\n",
    "    y_2018.append(isol.loc[2018].values[0])"
   ]
  },
  {
   "cell_type": "code",
   "execution_count": 102,
   "metadata": {},
   "outputs": [],
   "source": [
    "final_res['Avg. 1998'] = y_1998\n"
   ]
  },
  {
   "cell_type": "code",
   "execution_count": 103,
   "metadata": {},
   "outputs": [],
   "source": [
    "final_res['Avg. 2018'] = y_2018"
   ]
  },
  {
   "cell_type": "code",
   "execution_count": 104,
   "metadata": {},
   "outputs": [],
   "source": [
    "final_res['Area'] = 'Outer'"
   ]
  },
  {
   "cell_type": "code",
   "execution_count": 105,
   "metadata": {},
   "outputs": [],
   "source": [
    "inner = ['Camden', 'Greenwich', 'Hackney', 'Hammersmith & Fulham', 'Islington', 'Kensington & Chelsea', 'Lambeth', 'Lewisham', 'Southwark', 'Tower Hamlets', 'Wandsworth', 'Westminster']"
   ]
  },
  {
   "cell_type": "code",
   "execution_count": 106,
   "metadata": {},
   "outputs": [
    {
     "data": {
      "text/plain": [
       "['Camden',\n",
       " 'Greenwich',\n",
       " 'Hackney',\n",
       " 'Hammersmith & Fulham',\n",
       " 'Islington',\n",
       " 'Kensington & Chelsea',\n",
       " 'Lambeth',\n",
       " 'Lewisham',\n",
       " 'Southwark',\n",
       " 'Tower Hamlets',\n",
       " 'Wandsworth',\n",
       " 'Westminster']"
      ]
     },
     "execution_count": 106,
     "metadata": {},
     "output_type": "execute_result"
    }
   ],
   "source": [
    "inner"
   ]
  },
  {
   "cell_type": "code",
   "execution_count": 107,
   "metadata": {},
   "outputs": [],
   "source": [
    "final_res.loc[final_res.borough.isin(inner), 'Area'] = 'Inner'"
   ]
  },
  {
   "cell_type": "code",
   "execution_count": 108,
   "metadata": {},
   "outputs": [],
   "source": [
    "final_res = final_res.sort_values(by='decade_ratios',ascending=False)"
   ]
  },
  {
   "cell_type": "code",
   "execution_count": 109,
   "metadata": {},
   "outputs": [
    {
     "data": {
      "text/plain": [
       "['blue',\n",
       " 'red',\n",
       " 'blue',\n",
       " 'blue',\n",
       " 'blue',\n",
       " 'red',\n",
       " 'red',\n",
       " 'blue',\n",
       " 'blue',\n",
       " 'blue',\n",
       " 'red',\n",
       " 'red',\n",
       " 'blue',\n",
       " 'blue',\n",
       " 'blue',\n",
       " 'red',\n",
       " 'blue',\n",
       " 'red',\n",
       " 'red',\n",
       " 'red',\n",
       " 'red',\n",
       " 'red',\n",
       " 'red',\n",
       " 'red',\n",
       " 'red',\n",
       " 'red',\n",
       " 'blue',\n",
       " 'red',\n",
       " 'red',\n",
       " 'red',\n",
       " 'red',\n",
       " 'red']"
      ]
     },
     "execution_count": 109,
     "metadata": {},
     "output_type": "execute_result"
    }
   ],
   "source": [
    "col = []\n",
    "for val in final_res['Area']:\n",
    "    if val == 'Inner':\n",
    "        col.append('blue')\n",
    "    else:\n",
    "        col.append('red')\n",
    "col"
   ]
  },
  {
   "cell_type": "code",
   "execution_count": 112,
   "metadata": {},
   "outputs": [
    {
     "data": {
      "text/plain": [
       "<matplotlib.legend.Legend at 0x11c805f10>"
      ]
     },
     "execution_count": 112,
     "metadata": {},
     "output_type": "execute_result"
    },
    {
     "data": {
      "image/png": "[encoded data removed]",
      "text/plain": [
       "<Figure size 432x288 with 1 Axes>"
      ]
     },
     "metadata": {
      "needs_background": "light"
     },
     "output_type": "display_data"
    }
   ],
   "source": [
    "final_res.plot(kind='bar',x='borough',y='decade_ratios',legend=None,color=col)\n",
    "plt.xlabel('London Borough')\n",
    "plt.ylabel('Ratio of Avg. Housing Price Increase')\n",
    "plt.title('1998:2008 London Borough Avg. Housing Price Increases')\n",
    "inn = mpatches.Patch(color='blue', label='Inner London')\n",
    "out = mpatches.Patch(color='red', label='Outer London')\n",
    "plt.legend(handles=[inn,out], loc=1)\n"
   ]
  },
  {
   "cell_type": "code",
   "execution_count": 52,
   "metadata": {},
   "outputs": [
    {
     "data": {
      "text/plain": [
       "Text(0.5, 1.0, 'London Borough Avg. Housing Price 1998 & 2018')"
      ]
     },
     "execution_count": 52,
     "metadata": {},
     "output_type": "execute_result"
    },
    {
     "data": {
      "image/png": "[encoded data removed]",
      "text/plain": [
       "<Figure size 432x288 with 1 Axes>"
      ]
     },
     "metadata": {
      "needs_background": "light"
     },
     "output_type": "display_data"
    }
   ],
   "source": [
    "final_res.sort_values(by='decade_ratios',ascending=False).plot(kind='bar',x='borough',y=['Avg. 1998','Avg. 2018'])\n",
    "plt.xlabel('London Borough')\n",
    "plt.ylabel('Avg. Housing Price in 1,000,000s Pounds')\n",
    "plt.title('London Borough Avg. Housing Price 1998 & 2018')"
   ]
  },
  {
   "cell_type": "code",
   "execution_count": 53,
   "metadata": {},
   "outputs": [
    {
     "data": {
      "text/html": [
       "<div>\n",
       "<style scoped>\n",
       "    .dataframe tbody tr th:only-of-type {\n",
       "        vertical-align: middle;\n",
       "    }\n",
       "\n",
       "    .dataframe tbody tr th {\n",
       "        vertical-align: top;\n",
       "    }\n",
       "\n",
       "    .dataframe thead th {\n",
       "        text-align: right;\n",
       "    }\n",
       "</style>\n",
       "<table border=\"1\" class=\"dataframe\">\n",
       "  <thead>\n",
       "    <tr style=\"text-align: right;\">\n",
       "      <th></th>\n",
       "      <th>decade_ratios</th>\n",
       "      <th>Avg. 1998</th>\n",
       "      <th>Avg. 2018</th>\n",
       "    </tr>\n",
       "  </thead>\n",
       "  <tbody>\n",
       "    <tr>\n",
       "      <th>decade_ratios</th>\n",
       "      <td>1.000000</td>\n",
       "      <td>-0.049768</td>\n",
       "      <td>0.229301</td>\n",
       "    </tr>\n",
       "    <tr>\n",
       "      <th>Avg. 1998</th>\n",
       "      <td>-0.049768</td>\n",
       "      <td>1.000000</td>\n",
       "      <td>0.956985</td>\n",
       "    </tr>\n",
       "    <tr>\n",
       "      <th>Avg. 2018</th>\n",
       "      <td>0.229301</td>\n",
       "      <td>0.956985</td>\n",
       "      <td>1.000000</td>\n",
       "    </tr>\n",
       "  </tbody>\n",
       "</table>\n",
       "</div>"
      ],
      "text/plain": [
       "               decade_ratios  Avg. 1998  Avg. 2018\n",
       "decade_ratios       1.000000  -0.049768   0.229301\n",
       "Avg. 1998          -0.049768   1.000000   0.956985\n",
       "Avg. 2018           0.229301   0.956985   1.000000"
      ]
     },
     "execution_count": 53,
     "metadata": {},
     "output_type": "execute_result"
    }
   ],
   "source": [
    "final_res.corr()"
   ]
  },
  {
   "cell_type": "code",
   "execution_count": 54,
   "metadata": {},
   "outputs": [],
   "source": [
    "sort_1998 = final_res.sort_values(by='Avg. 1998',ascending=False).reset_index(drop=True)"
   ]
  },
  {
   "cell_type": "code",
   "execution_count": 55,
   "metadata": {},
   "outputs": [],
   "source": [
    "sort_2018 = final_res.sort_values(by='Avg. 2018',ascending=False).reset_index(drop=True)"
   ]
  },
  {
   "cell_type": "code",
   "execution_count": 56,
   "metadata": {},
   "outputs": [
    {
     "data": {
      "text/html": [
       "<div>\n",
       "<style scoped>\n",
       "    .dataframe tbody tr th:only-of-type {\n",
       "        vertical-align: middle;\n",
       "    }\n",
       "\n",
       "    .dataframe tbody tr th {\n",
       "        vertical-align: top;\n",
       "    }\n",
       "\n",
       "    .dataframe thead th {\n",
       "        text-align: right;\n",
       "    }\n",
       "</style>\n",
       "<table border=\"1\" class=\"dataframe\">\n",
       "  <thead>\n",
       "    <tr style=\"text-align: right;\">\n",
       "      <th></th>\n",
       "      <th>borough</th>\n",
       "      <th>decade_ratios</th>\n",
       "      <th>Avg. 1998</th>\n",
       "      <th>Avg. 2018</th>\n",
       "      <th>Area</th>\n",
       "    </tr>\n",
       "  </thead>\n",
       "  <tbody>\n",
       "    <tr>\n",
       "      <th>24</th>\n",
       "      <td>Hackney</td>\n",
       "      <td>6.198286</td>\n",
       "      <td>87869.535804</td>\n",
       "      <td>544640.475027</td>\n",
       "      <td>Inner</td>\n",
       "    </tr>\n",
       "  </tbody>\n",
       "</table>\n",
       "</div>"
      ],
      "text/plain": [
       "    borough  decade_ratios     Avg. 1998      Avg. 2018   Area\n",
       "24  Hackney       6.198286  87869.535804  544640.475027  Inner"
      ]
     },
     "execution_count": 56,
     "metadata": {},
     "output_type": "execute_result"
    }
   ],
   "source": [
    "sort_1998.loc[sort_1998.borough == 'Hackney']"
   ]
  },
  {
   "cell_type": "code",
   "execution_count": 57,
   "metadata": {},
   "outputs": [
    {
     "data": {
      "text/html": [
       "<div>\n",
       "<style scoped>\n",
       "    .dataframe tbody tr th:only-of-type {\n",
       "        vertical-align: middle;\n",
       "    }\n",
       "\n",
       "    .dataframe tbody tr th {\n",
       "        vertical-align: top;\n",
       "    }\n",
       "\n",
       "    .dataframe thead th {\n",
       "        text-align: right;\n",
       "    }\n",
       "</style>\n",
       "<table border=\"1\" class=\"dataframe\">\n",
       "  <thead>\n",
       "    <tr style=\"text-align: right;\">\n",
       "      <th></th>\n",
       "      <th>borough</th>\n",
       "      <th>decade_ratios</th>\n",
       "      <th>Avg. 1998</th>\n",
       "      <th>Avg. 2018</th>\n",
       "      <th>Area</th>\n",
       "    </tr>\n",
       "  </thead>\n",
       "  <tbody>\n",
       "    <tr>\n",
       "      <th>8</th>\n",
       "      <td>Hackney</td>\n",
       "      <td>6.198286</td>\n",
       "      <td>87869.535804</td>\n",
       "      <td>544640.475027</td>\n",
       "      <td>Inner</td>\n",
       "    </tr>\n",
       "  </tbody>\n",
       "</table>\n",
       "</div>"
      ],
      "text/plain": [
       "   borough  decade_ratios     Avg. 1998      Avg. 2018   Area\n",
       "8  Hackney       6.198286  87869.535804  544640.475027  Inner"
      ]
     },
     "execution_count": 57,
     "metadata": {},
     "output_type": "execute_result"
    }
   ],
   "source": [
    "sort_2018.loc[sort_2018.borough == 'Hackney']"
   ]
  },
  {
   "cell_type": "code",
   "execution_count": 58,
   "metadata": {},
   "outputs": [
    {
     "data": {
      "text/html": [
       "<div>\n",
       "<style scoped>\n",
       "    .dataframe tbody tr th:only-of-type {\n",
       "        vertical-align: middle;\n",
       "    }\n",
       "\n",
       "    .dataframe tbody tr th {\n",
       "        vertical-align: top;\n",
       "    }\n",
       "\n",
       "    .dataframe thead th {\n",
       "        text-align: right;\n",
       "    }\n",
       "</style>\n",
       "<table border=\"1\" class=\"dataframe\">\n",
       "  <thead>\n",
       "    <tr style=\"text-align: right;\">\n",
       "      <th></th>\n",
       "      <th>borough</th>\n",
       "      <th>decade_ratios</th>\n",
       "      <th>Avg. 1998</th>\n",
       "      <th>Avg. 2018</th>\n",
       "      <th>Area</th>\n",
       "    </tr>\n",
       "  </thead>\n",
       "  <tbody>\n",
       "    <tr>\n",
       "      <th>0</th>\n",
       "      <td>Kensington &amp; Chelsea</td>\n",
       "      <td>5.082465</td>\n",
       "      <td>268350.122142</td>\n",
       "      <td>1.363880e+06</td>\n",
       "      <td>Inner</td>\n",
       "    </tr>\n",
       "    <tr>\n",
       "      <th>1</th>\n",
       "      <td>Westminster</td>\n",
       "      <td>5.353565</td>\n",
       "      <td>190531.949942</td>\n",
       "      <td>1.020025e+06</td>\n",
       "      <td>Inner</td>\n",
       "    </tr>\n",
       "    <tr>\n",
       "      <th>2</th>\n",
       "      <td>Hammersmith &amp; Fulham</td>\n",
       "      <td>4.137798</td>\n",
       "      <td>175340.921250</td>\n",
       "      <td>7.255253e+05</td>\n",
       "      <td>Inner</td>\n",
       "    </tr>\n",
       "    <tr>\n",
       "      <th>3</th>\n",
       "      <td>Camden</td>\n",
       "      <td>4.935353</td>\n",
       "      <td>170688.973933</td>\n",
       "      <td>8.424104e+05</td>\n",
       "      <td>Inner</td>\n",
       "    </tr>\n",
       "    <tr>\n",
       "      <th>4</th>\n",
       "      <td>Richmond upon Thames</td>\n",
       "      <td>4.005162</td>\n",
       "      <td>162956.066025</td>\n",
       "      <td>6.526654e+05</td>\n",
       "      <td>Outer</td>\n",
       "    </tr>\n",
       "  </tbody>\n",
       "</table>\n",
       "</div>"
      ],
      "text/plain": [
       "                borough  decade_ratios      Avg. 1998     Avg. 2018   Area\n",
       "0  Kensington & Chelsea       5.082465  268350.122142  1.363880e+06  Inner\n",
       "1           Westminster       5.353565  190531.949942  1.020025e+06  Inner\n",
       "2  Hammersmith & Fulham       4.137798  175340.921250  7.255253e+05  Inner\n",
       "3                Camden       4.935353  170688.973933  8.424104e+05  Inner\n",
       "4  Richmond upon Thames       4.005162  162956.066025  6.526654e+05  Outer"
      ]
     },
     "execution_count": 58,
     "metadata": {},
     "output_type": "execute_result"
    }
   ],
   "source": [
    "sort_1998.head()\n"
   ]
  },
  {
   "cell_type": "code",
   "execution_count": 59,
   "metadata": {},
   "outputs": [
    {
     "data": {
      "text/html": [
       "<div>\n",
       "<style scoped>\n",
       "    .dataframe tbody tr th:only-of-type {\n",
       "        vertical-align: middle;\n",
       "    }\n",
       "\n",
       "    .dataframe tbody tr th {\n",
       "        vertical-align: top;\n",
       "    }\n",
       "\n",
       "    .dataframe thead th {\n",
       "        text-align: right;\n",
       "    }\n",
       "</style>\n",
       "<table border=\"1\" class=\"dataframe\">\n",
       "  <thead>\n",
       "    <tr style=\"text-align: right;\">\n",
       "      <th></th>\n",
       "      <th>borough</th>\n",
       "      <th>decade_ratios</th>\n",
       "      <th>Avg. 1998</th>\n",
       "      <th>Avg. 2018</th>\n",
       "      <th>Area</th>\n",
       "    </tr>\n",
       "  </thead>\n",
       "  <tbody>\n",
       "    <tr>\n",
       "      <th>0</th>\n",
       "      <td>Kensington &amp; Chelsea</td>\n",
       "      <td>5.082465</td>\n",
       "      <td>268350.122142</td>\n",
       "      <td>1.363880e+06</td>\n",
       "      <td>Inner</td>\n",
       "    </tr>\n",
       "    <tr>\n",
       "      <th>1</th>\n",
       "      <td>Westminster</td>\n",
       "      <td>5.353565</td>\n",
       "      <td>190531.949942</td>\n",
       "      <td>1.020025e+06</td>\n",
       "      <td>Inner</td>\n",
       "    </tr>\n",
       "    <tr>\n",
       "      <th>2</th>\n",
       "      <td>Camden</td>\n",
       "      <td>4.935353</td>\n",
       "      <td>170688.973933</td>\n",
       "      <td>8.424104e+05</td>\n",
       "      <td>Inner</td>\n",
       "    </tr>\n",
       "    <tr>\n",
       "      <th>3</th>\n",
       "      <td>Hammersmith &amp; Fulham</td>\n",
       "      <td>4.137798</td>\n",
       "      <td>175340.921250</td>\n",
       "      <td>7.255253e+05</td>\n",
       "      <td>Inner</td>\n",
       "    </tr>\n",
       "    <tr>\n",
       "      <th>4</th>\n",
       "      <td>Richmond upon Thames</td>\n",
       "      <td>4.005162</td>\n",
       "      <td>162956.066025</td>\n",
       "      <td>6.526654e+05</td>\n",
       "      <td>Outer</td>\n",
       "    </tr>\n",
       "  </tbody>\n",
       "</table>\n",
       "</div>"
      ],
      "text/plain": [
       "                borough  decade_ratios      Avg. 1998     Avg. 2018   Area\n",
       "0  Kensington & Chelsea       5.082465  268350.122142  1.363880e+06  Inner\n",
       "1           Westminster       5.353565  190531.949942  1.020025e+06  Inner\n",
       "2                Camden       4.935353  170688.973933  8.424104e+05  Inner\n",
       "3  Hammersmith & Fulham       4.137798  175340.921250  7.255253e+05  Inner\n",
       "4  Richmond upon Thames       4.005162  162956.066025  6.526654e+05  Outer"
      ]
     },
     "execution_count": 59,
     "metadata": {},
     "output_type": "execute_result"
    }
   ],
   "source": [
    "sort_2018.head()"
   ]
  },
  {
   "cell_type": "code",
   "execution_count": 60,
   "metadata": {},
   "outputs": [],
   "source": [
    "sort_1998['1998 Rank'] = sort_1998.index"
   ]
  },
  {
   "cell_type": "code",
   "execution_count": 61,
   "metadata": {},
   "outputs": [],
   "source": [
    "sort_2018['2018 Rank'] = sort_2018.index"
   ]
  },
  {
   "cell_type": "code",
   "execution_count": 62,
   "metadata": {},
   "outputs": [],
   "source": [
    "frames = [final_res, sort_1998,sort_2018]"
   ]
  },
  {
   "cell_type": "code",
   "execution_count": 63,
   "metadata": {},
   "outputs": [],
   "source": [
    "rankings = pd.merge(sort_1998, sort_2018,on=['borough','decade_ratios','Avg. 1998','Avg. 2018','Area'])"
   ]
  },
  {
   "cell_type": "code",
   "execution_count": 64,
   "metadata": {},
   "outputs": [
    {
     "data": {
      "text/html": [
       "<div>\n",
       "<style scoped>\n",
       "    .dataframe tbody tr th:only-of-type {\n",
       "        vertical-align: middle;\n",
       "    }\n",
       "\n",
       "    .dataframe tbody tr th {\n",
       "        vertical-align: top;\n",
       "    }\n",
       "\n",
       "    .dataframe thead th {\n",
       "        text-align: right;\n",
       "    }\n",
       "</style>\n",
       "<table border=\"1\" class=\"dataframe\">\n",
       "  <thead>\n",
       "    <tr style=\"text-align: right;\">\n",
       "      <th></th>\n",
       "      <th>decade_ratios</th>\n",
       "      <th>Avg. 1998</th>\n",
       "      <th>Avg. 2018</th>\n",
       "      <th>1998 Rank</th>\n",
       "      <th>2018 Rank</th>\n",
       "    </tr>\n",
       "  </thead>\n",
       "  <tbody>\n",
       "    <tr>\n",
       "      <th>decade_ratios</th>\n",
       "      <td>1.000000</td>\n",
       "      <td>-0.049768</td>\n",
       "      <td>0.229301</td>\n",
       "      <td>0.263250</td>\n",
       "      <td>-0.243441</td>\n",
       "    </tr>\n",
       "    <tr>\n",
       "      <th>Avg. 1998</th>\n",
       "      <td>-0.049768</td>\n",
       "      <td>1.000000</td>\n",
       "      <td>0.956985</td>\n",
       "      <td>-0.844792</td>\n",
       "      <td>-0.779372</td>\n",
       "    </tr>\n",
       "    <tr>\n",
       "      <th>Avg. 2018</th>\n",
       "      <td>0.229301</td>\n",
       "      <td>0.956985</td>\n",
       "      <td>1.000000</td>\n",
       "      <td>-0.737560</td>\n",
       "      <td>-0.801982</td>\n",
       "    </tr>\n",
       "    <tr>\n",
       "      <th>1998 Rank</th>\n",
       "      <td>0.263250</td>\n",
       "      <td>-0.844792</td>\n",
       "      <td>-0.737560</td>\n",
       "      <td>1.000000</td>\n",
       "      <td>0.841276</td>\n",
       "    </tr>\n",
       "    <tr>\n",
       "      <th>2018 Rank</th>\n",
       "      <td>-0.243441</td>\n",
       "      <td>-0.779372</td>\n",
       "      <td>-0.801982</td>\n",
       "      <td>0.841276</td>\n",
       "      <td>1.000000</td>\n",
       "    </tr>\n",
       "  </tbody>\n",
       "</table>\n",
       "</div>"
      ],
      "text/plain": [
       "               decade_ratios  Avg. 1998  Avg. 2018  1998 Rank  2018 Rank\n",
       "decade_ratios       1.000000  -0.049768   0.229301   0.263250  -0.243441\n",
       "Avg. 1998          -0.049768   1.000000   0.956985  -0.844792  -0.779372\n",
       "Avg. 2018           0.229301   0.956985   1.000000  -0.737560  -0.801982\n",
       "1998 Rank           0.263250  -0.844792  -0.737560   1.000000   0.841276\n",
       "2018 Rank          -0.243441  -0.779372  -0.801982   0.841276   1.000000"
      ]
     },
     "execution_count": 64,
     "metadata": {},
     "output_type": "execute_result"
    }
   ],
   "source": [
    "rankings.corr()"
   ]
  },
  {
   "cell_type": "code",
   "execution_count": 65,
   "metadata": {},
   "outputs": [],
   "source": [
    "rankings['1998 Rank'] = rankings['1998 Rank']+1"
   ]
  },
  {
   "cell_type": "code",
   "execution_count": 66,
   "metadata": {},
   "outputs": [],
   "source": [
    "rankings['2018 Rank'] = rankings['2018 Rank']+1"
   ]
  },
  {
   "cell_type": "code",
   "execution_count": 67,
   "metadata": {},
   "outputs": [],
   "source": [
    "rankings['Rank Jump'] = rankings['1998 Rank']-rankings['2018 Rank']"
   ]
  },
  {
   "cell_type": "code",
   "execution_count": 68,
   "metadata": {},
   "outputs": [
    {
     "data": {
      "text/html": [
       "<div>\n",
       "<style scoped>\n",
       "    .dataframe tbody tr th:only-of-type {\n",
       "        vertical-align: middle;\n",
       "    }\n",
       "\n",
       "    .dataframe tbody tr th {\n",
       "        vertical-align: top;\n",
       "    }\n",
       "\n",
       "    .dataframe thead th {\n",
       "        text-align: right;\n",
       "    }\n",
       "</style>\n",
       "<table border=\"1\" class=\"dataframe\">\n",
       "  <thead>\n",
       "    <tr style=\"text-align: right;\">\n",
       "      <th></th>\n",
       "      <th>borough</th>\n",
       "      <th>decade_ratios</th>\n",
       "      <th>Avg. 1998</th>\n",
       "      <th>Avg. 2018</th>\n",
       "      <th>Area</th>\n",
       "      <th>1998 Rank</th>\n",
       "      <th>2018 Rank</th>\n",
       "      <th>Rank Jump</th>\n",
       "    </tr>\n",
       "  </thead>\n",
       "  <tbody>\n",
       "    <tr>\n",
       "      <th>0</th>\n",
       "      <td>Kensington &amp; Chelsea</td>\n",
       "      <td>5.082465</td>\n",
       "      <td>268350.122142</td>\n",
       "      <td>1.363880e+06</td>\n",
       "      <td>Inner</td>\n",
       "      <td>1</td>\n",
       "      <td>1</td>\n",
       "      <td>0</td>\n",
       "    </tr>\n",
       "    <tr>\n",
       "      <th>1</th>\n",
       "      <td>Westminster</td>\n",
       "      <td>5.353565</td>\n",
       "      <td>190531.949942</td>\n",
       "      <td>1.020025e+06</td>\n",
       "      <td>Inner</td>\n",
       "      <td>2</td>\n",
       "      <td>2</td>\n",
       "      <td>0</td>\n",
       "    </tr>\n",
       "    <tr>\n",
       "      <th>2</th>\n",
       "      <td>Hammersmith &amp; Fulham</td>\n",
       "      <td>4.137798</td>\n",
       "      <td>175340.921250</td>\n",
       "      <td>7.255253e+05</td>\n",
       "      <td>Inner</td>\n",
       "      <td>3</td>\n",
       "      <td>4</td>\n",
       "      <td>-1</td>\n",
       "    </tr>\n",
       "    <tr>\n",
       "      <th>3</th>\n",
       "      <td>Camden</td>\n",
       "      <td>4.935353</td>\n",
       "      <td>170688.973933</td>\n",
       "      <td>8.424104e+05</td>\n",
       "      <td>Inner</td>\n",
       "      <td>4</td>\n",
       "      <td>3</td>\n",
       "      <td>1</td>\n",
       "    </tr>\n",
       "    <tr>\n",
       "      <th>4</th>\n",
       "      <td>Richmond upon Thames</td>\n",
       "      <td>4.005162</td>\n",
       "      <td>162956.066025</td>\n",
       "      <td>6.526654e+05</td>\n",
       "      <td>Outer</td>\n",
       "      <td>5</td>\n",
       "      <td>5</td>\n",
       "      <td>0</td>\n",
       "    </tr>\n",
       "    <tr>\n",
       "      <th>5</th>\n",
       "      <td>Islington</td>\n",
       "      <td>4.844048</td>\n",
       "      <td>134148.973300</td>\n",
       "      <td>6.498241e+05</td>\n",
       "      <td>Inner</td>\n",
       "      <td>6</td>\n",
       "      <td>6</td>\n",
       "      <td>0</td>\n",
       "    </tr>\n",
       "    <tr>\n",
       "      <th>6</th>\n",
       "      <td>Wandsworth</td>\n",
       "      <td>4.757709</td>\n",
       "      <td>125406.807233</td>\n",
       "      <td>5.966491e+05</td>\n",
       "      <td>Inner</td>\n",
       "      <td>7</td>\n",
       "      <td>7</td>\n",
       "      <td>0</td>\n",
       "    </tr>\n",
       "    <tr>\n",
       "      <th>7</th>\n",
       "      <td>Barnet</td>\n",
       "      <td>4.358196</td>\n",
       "      <td>122359.468033</td>\n",
       "      <td>5.332665e+05</td>\n",
       "      <td>Outer</td>\n",
       "      <td>8</td>\n",
       "      <td>10</td>\n",
       "      <td>-2</td>\n",
       "    </tr>\n",
       "    <tr>\n",
       "      <th>8</th>\n",
       "      <td>Kingston upon Thames</td>\n",
       "      <td>4.270550</td>\n",
       "      <td>116399.769158</td>\n",
       "      <td>4.970910e+05</td>\n",
       "      <td>Outer</td>\n",
       "      <td>9</td>\n",
       "      <td>14</td>\n",
       "      <td>-5</td>\n",
       "    </tr>\n",
       "    <tr>\n",
       "      <th>9</th>\n",
       "      <td>Harrow</td>\n",
       "      <td>4.059196</td>\n",
       "      <td>114778.250067</td>\n",
       "      <td>4.659075e+05</td>\n",
       "      <td>Outer</td>\n",
       "      <td>10</td>\n",
       "      <td>17</td>\n",
       "      <td>-7</td>\n",
       "    </tr>\n",
       "    <tr>\n",
       "      <th>10</th>\n",
       "      <td>Ealing</td>\n",
       "      <td>4.311451</td>\n",
       "      <td>111343.154650</td>\n",
       "      <td>4.800505e+05</td>\n",
       "      <td>Outer</td>\n",
       "      <td>11</td>\n",
       "      <td>16</td>\n",
       "      <td>-5</td>\n",
       "    </tr>\n",
       "    <tr>\n",
       "      <th>11</th>\n",
       "      <td>Bromley</td>\n",
       "      <td>4.094785</td>\n",
       "      <td>108286.520467</td>\n",
       "      <td>4.434100e+05</td>\n",
       "      <td>Outer</td>\n",
       "      <td>12</td>\n",
       "      <td>19</td>\n",
       "      <td>-7</td>\n",
       "    </tr>\n",
       "    <tr>\n",
       "      <th>12</th>\n",
       "      <td>Merton</td>\n",
       "      <td>4.741273</td>\n",
       "      <td>108049.855117</td>\n",
       "      <td>5.122939e+05</td>\n",
       "      <td>Outer</td>\n",
       "      <td>13</td>\n",
       "      <td>11</td>\n",
       "      <td>2</td>\n",
       "    </tr>\n",
       "    <tr>\n",
       "      <th>13</th>\n",
       "      <td>Haringey</td>\n",
       "      <td>5.134625</td>\n",
       "      <td>107419.850108</td>\n",
       "      <td>5.515606e+05</td>\n",
       "      <td>Outer</td>\n",
       "      <td>14</td>\n",
       "      <td>8</td>\n",
       "      <td>6</td>\n",
       "    </tr>\n",
       "    <tr>\n",
       "      <th>14</th>\n",
       "      <td>Lambeth</td>\n",
       "      <td>4.957751</td>\n",
       "      <td>103179.118943</td>\n",
       "      <td>5.115364e+05</td>\n",
       "      <td>Inner</td>\n",
       "      <td>15</td>\n",
       "      <td>12</td>\n",
       "      <td>3</td>\n",
       "    </tr>\n",
       "    <tr>\n",
       "      <th>15</th>\n",
       "      <td>Brent</td>\n",
       "      <td>4.894554</td>\n",
       "      <td>100692.590417</td>\n",
       "      <td>4.928454e+05</td>\n",
       "      <td>Outer</td>\n",
       "      <td>16</td>\n",
       "      <td>15</td>\n",
       "      <td>1</td>\n",
       "    </tr>\n",
       "    <tr>\n",
       "      <th>16</th>\n",
       "      <td>Hounslow</td>\n",
       "      <td>3.976409</td>\n",
       "      <td>99746.069682</td>\n",
       "      <td>3.966312e+05</td>\n",
       "      <td>Outer</td>\n",
       "      <td>17</td>\n",
       "      <td>25</td>\n",
       "      <td>-8</td>\n",
       "    </tr>\n",
       "    <tr>\n",
       "      <th>17</th>\n",
       "      <td>Hillingdon</td>\n",
       "      <td>4.200273</td>\n",
       "      <td>97676.048952</td>\n",
       "      <td>4.102661e+05</td>\n",
       "      <td>Outer</td>\n",
       "      <td>18</td>\n",
       "      <td>23</td>\n",
       "      <td>-5</td>\n",
       "    </tr>\n",
       "    <tr>\n",
       "      <th>18</th>\n",
       "      <td>Tower Hamlets</td>\n",
       "      <td>4.626701</td>\n",
       "      <td>96505.166407</td>\n",
       "      <td>4.465006e+05</td>\n",
       "      <td>Inner</td>\n",
       "      <td>19</td>\n",
       "      <td>18</td>\n",
       "      <td>1</td>\n",
       "    </tr>\n",
       "    <tr>\n",
       "      <th>19</th>\n",
       "      <td>Redbridge</td>\n",
       "      <td>4.471182</td>\n",
       "      <td>94514.395822</td>\n",
       "      <td>4.225911e+05</td>\n",
       "      <td>Outer</td>\n",
       "      <td>20</td>\n",
       "      <td>21</td>\n",
       "      <td>-1</td>\n",
       "    </tr>\n",
       "    <tr>\n",
       "      <th>20</th>\n",
       "      <td>Enfield</td>\n",
       "      <td>4.263472</td>\n",
       "      <td>93030.224322</td>\n",
       "      <td>3.966317e+05</td>\n",
       "      <td>Outer</td>\n",
       "      <td>21</td>\n",
       "      <td>24</td>\n",
       "      <td>-3</td>\n",
       "    </tr>\n",
       "    <tr>\n",
       "      <th>21</th>\n",
       "      <td>Sutton</td>\n",
       "      <td>4.118523</td>\n",
       "      <td>92087.045921</td>\n",
       "      <td>3.792626e+05</td>\n",
       "      <td>Outer</td>\n",
       "      <td>22</td>\n",
       "      <td>27</td>\n",
       "      <td>-5</td>\n",
       "    </tr>\n",
       "    <tr>\n",
       "      <th>22</th>\n",
       "      <td>Southwark</td>\n",
       "      <td>5.516485</td>\n",
       "      <td>91405.187779</td>\n",
       "      <td>5.042354e+05</td>\n",
       "      <td>Inner</td>\n",
       "      <td>23</td>\n",
       "      <td>13</td>\n",
       "      <td>10</td>\n",
       "    </tr>\n",
       "    <tr>\n",
       "      <th>23</th>\n",
       "      <td>Croydon</td>\n",
       "      <td>4.201100</td>\n",
       "      <td>88143.228830</td>\n",
       "      <td>3.702985e+05</td>\n",
       "      <td>Outer</td>\n",
       "      <td>24</td>\n",
       "      <td>28</td>\n",
       "      <td>-4</td>\n",
       "    </tr>\n",
       "    <tr>\n",
       "      <th>24</th>\n",
       "      <td>Hackney</td>\n",
       "      <td>6.198286</td>\n",
       "      <td>87869.535804</td>\n",
       "      <td>5.446405e+05</td>\n",
       "      <td>Inner</td>\n",
       "      <td>25</td>\n",
       "      <td>9</td>\n",
       "      <td>16</td>\n",
       "    </tr>\n",
       "    <tr>\n",
       "      <th>25</th>\n",
       "      <td>Havering</td>\n",
       "      <td>4.325230</td>\n",
       "      <td>85602.087977</td>\n",
       "      <td>3.702488e+05</td>\n",
       "      <td>Outer</td>\n",
       "      <td>26</td>\n",
       "      <td>29</td>\n",
       "      <td>-3</td>\n",
       "    </tr>\n",
       "    <tr>\n",
       "      <th>26</th>\n",
       "      <td>Greenwich</td>\n",
       "      <td>4.763036</td>\n",
       "      <td>81532.933366</td>\n",
       "      <td>3.883443e+05</td>\n",
       "      <td>Inner</td>\n",
       "      <td>27</td>\n",
       "      <td>26</td>\n",
       "      <td>1</td>\n",
       "    </tr>\n",
       "    <tr>\n",
       "      <th>27</th>\n",
       "      <td>Bexley</td>\n",
       "      <td>4.248977</td>\n",
       "      <td>80632.020822</td>\n",
       "      <td>3.426036e+05</td>\n",
       "      <td>Outer</td>\n",
       "      <td>28</td>\n",
       "      <td>31</td>\n",
       "      <td>-3</td>\n",
       "    </tr>\n",
       "    <tr>\n",
       "      <th>28</th>\n",
       "      <td>Waltham Forest</td>\n",
       "      <td>5.834756</td>\n",
       "      <td>75557.474132</td>\n",
       "      <td>4.408594e+05</td>\n",
       "      <td>Outer</td>\n",
       "      <td>29</td>\n",
       "      <td>20</td>\n",
       "      <td>9</td>\n",
       "    </tr>\n",
       "    <tr>\n",
       "      <th>29</th>\n",
       "      <td>Lewisham</td>\n",
       "      <td>5.449221</td>\n",
       "      <td>75539.051649</td>\n",
       "      <td>4.116290e+05</td>\n",
       "      <td>Inner</td>\n",
       "      <td>30</td>\n",
       "      <td>22</td>\n",
       "      <td>8</td>\n",
       "    </tr>\n",
       "    <tr>\n",
       "      <th>30</th>\n",
       "      <td>Newham</td>\n",
       "      <td>5.305390</td>\n",
       "      <td>67671.270763</td>\n",
       "      <td>3.590225e+05</td>\n",
       "      <td>Outer</td>\n",
       "      <td>31</td>\n",
       "      <td>30</td>\n",
       "      <td>1</td>\n",
       "    </tr>\n",
       "    <tr>\n",
       "      <th>31</th>\n",
       "      <td>Barking &amp; Dagenham</td>\n",
       "      <td>4.896619</td>\n",
       "      <td>60285.821083</td>\n",
       "      <td>2.951967e+05</td>\n",
       "      <td>Outer</td>\n",
       "      <td>32</td>\n",
       "      <td>32</td>\n",
       "      <td>0</td>\n",
       "    </tr>\n",
       "  </tbody>\n",
       "</table>\n",
       "</div>"
      ],
      "text/plain": [
       "                 borough  decade_ratios      Avg. 1998     Avg. 2018   Area  \\\n",
       "0   Kensington & Chelsea       5.082465  268350.122142  1.363880e+06  Inner   \n",
       "1            Westminster       5.353565  190531.949942  1.020025e+06  Inner   \n",
       "2   Hammersmith & Fulham       4.137798  175340.921250  7.255253e+05  Inner   \n",
       "3                 Camden       4.935353  170688.973933  8.424104e+05  Inner   \n",
       "4   Richmond upon Thames       4.005162  162956.066025  6.526654e+05  Outer   \n",
       "5              Islington       4.844048  134148.973300  6.498241e+05  Inner   \n",
       "6             Wandsworth       4.757709  125406.807233  5.966491e+05  Inner   \n",
       "7                 Barnet       4.358196  122359.468033  5.332665e+05  Outer   \n",
       "8   Kingston upon Thames       4.270550  116399.769158  4.970910e+05  Outer   \n",
       "9                 Harrow       4.059196  114778.250067  4.659075e+05  Outer   \n",
       "10                Ealing       4.311451  111343.154650  4.800505e+05  Outer   \n",
       "11               Bromley       4.094785  108286.520467  4.434100e+05  Outer   \n",
       "12                Merton       4.741273  108049.855117  5.122939e+05  Outer   \n",
       "13              Haringey       5.134625  107419.850108  5.515606e+05  Outer   \n",
       "14               Lambeth       4.957751  103179.118943  5.115364e+05  Inner   \n",
       "15                 Brent       4.894554  100692.590417  4.928454e+05  Outer   \n",
       "16              Hounslow       3.976409   99746.069682  3.966312e+05  Outer   \n",
       "17            Hillingdon       4.200273   97676.048952  4.102661e+05  Outer   \n",
       "18         Tower Hamlets       4.626701   96505.166407  4.465006e+05  Inner   \n",
       "19             Redbridge       4.471182   94514.395822  4.225911e+05  Outer   \n",
       "20               Enfield       4.263472   93030.224322  3.966317e+05  Outer   \n",
       "21                Sutton       4.118523   92087.045921  3.792626e+05  Outer   \n",
       "22             Southwark       5.516485   91405.187779  5.042354e+05  Inner   \n",
       "23               Croydon       4.201100   88143.228830  3.702985e+05  Outer   \n",
       "24               Hackney       6.198286   87869.535804  5.446405e+05  Inner   \n",
       "25              Havering       4.325230   85602.087977  3.702488e+05  Outer   \n",
       "26             Greenwich       4.763036   81532.933366  3.883443e+05  Inner   \n",
       "27                Bexley       4.248977   80632.020822  3.426036e+05  Outer   \n",
       "28        Waltham Forest       5.834756   75557.474132  4.408594e+05  Outer   \n",
       "29              Lewisham       5.449221   75539.051649  4.116290e+05  Inner   \n",
       "30                Newham       5.305390   67671.270763  3.590225e+05  Outer   \n",
       "31    Barking & Dagenham       4.896619   60285.821083  2.951967e+05  Outer   \n",
       "\n",
       "    1998 Rank  2018 Rank  Rank Jump  \n",
       "0           1          1          0  \n",
       "1           2          2          0  \n",
       "2           3          4         -1  \n",
       "3           4          3          1  \n",
       "4           5          5          0  \n",
       "5           6          6          0  \n",
       "6           7          7          0  \n",
       "7           8         10         -2  \n",
       "8           9         14         -5  \n",
       "9          10         17         -7  \n",
       "10         11         16         -5  \n",
       "11         12         19         -7  \n",
       "12         13         11          2  \n",
       "13         14          8          6  \n",
       "14         15         12          3  \n",
       "15         16         15          1  \n",
       "16         17         25         -8  \n",
       "17         18         23         -5  \n",
       "18         19         18          1  \n",
       "19         20         21         -1  \n",
       "20         21         24         -3  \n",
       "21         22         27         -5  \n",
       "22         23         13         10  \n",
       "23         24         28         -4  \n",
       "24         25          9         16  \n",
       "25         26         29         -3  \n",
       "26         27         26          1  \n",
       "27         28         31         -3  \n",
       "28         29         20          9  \n",
       "29         30         22          8  \n",
       "30         31         30          1  \n",
       "31         32         32          0  "
      ]
     },
     "execution_count": 68,
     "metadata": {},
     "output_type": "execute_result"
    }
   ],
   "source": [
    "rankings"
   ]
  },
  {
   "cell_type": "code",
   "execution_count": 69,
   "metadata": {},
   "outputs": [
    {
     "data": {
      "text/html": [
       "<div>\n",
       "<style scoped>\n",
       "    .dataframe tbody tr th:only-of-type {\n",
       "        vertical-align: middle;\n",
       "    }\n",
       "\n",
       "    .dataframe tbody tr th {\n",
       "        vertical-align: top;\n",
       "    }\n",
       "\n",
       "    .dataframe thead th {\n",
       "        text-align: right;\n",
       "    }\n",
       "</style>\n",
       "<table border=\"1\" class=\"dataframe\">\n",
       "  <thead>\n",
       "    <tr style=\"text-align: right;\">\n",
       "      <th></th>\n",
       "      <th>decade_ratios</th>\n",
       "      <th>Avg. 1998</th>\n",
       "      <th>Avg. 2018</th>\n",
       "      <th>1998 Rank</th>\n",
       "      <th>2018 Rank</th>\n",
       "      <th>Rank Jump</th>\n",
       "    </tr>\n",
       "  </thead>\n",
       "  <tbody>\n",
       "    <tr>\n",
       "      <th>decade_ratios</th>\n",
       "      <td>1.000000</td>\n",
       "      <td>-0.049768</td>\n",
       "      <td>0.229301</td>\n",
       "      <td>0.263250</td>\n",
       "      <td>-0.243441</td>\n",
       "      <td>0.899304</td>\n",
       "    </tr>\n",
       "    <tr>\n",
       "      <th>Avg. 1998</th>\n",
       "      <td>-0.049768</td>\n",
       "      <td>1.000000</td>\n",
       "      <td>0.956985</td>\n",
       "      <td>-0.844792</td>\n",
       "      <td>-0.779372</td>\n",
       "      <td>-0.116111</td>\n",
       "    </tr>\n",
       "    <tr>\n",
       "      <th>Avg. 2018</th>\n",
       "      <td>0.229301</td>\n",
       "      <td>0.956985</td>\n",
       "      <td>1.000000</td>\n",
       "      <td>-0.737560</td>\n",
       "      <td>-0.801982</td>\n",
       "      <td>0.114339</td>\n",
       "    </tr>\n",
       "    <tr>\n",
       "      <th>1998 Rank</th>\n",
       "      <td>0.263250</td>\n",
       "      <td>-0.844792</td>\n",
       "      <td>-0.737560</td>\n",
       "      <td>1.000000</td>\n",
       "      <td>0.841276</td>\n",
       "      <td>0.281713</td>\n",
       "    </tr>\n",
       "    <tr>\n",
       "      <th>2018 Rank</th>\n",
       "      <td>-0.243441</td>\n",
       "      <td>-0.779372</td>\n",
       "      <td>-0.801982</td>\n",
       "      <td>0.841276</td>\n",
       "      <td>1.000000</td>\n",
       "      <td>-0.281713</td>\n",
       "    </tr>\n",
       "    <tr>\n",
       "      <th>Rank Jump</th>\n",
       "      <td>0.899304</td>\n",
       "      <td>-0.116111</td>\n",
       "      <td>0.114339</td>\n",
       "      <td>0.281713</td>\n",
       "      <td>-0.281713</td>\n",
       "      <td>1.000000</td>\n",
       "    </tr>\n",
       "  </tbody>\n",
       "</table>\n",
       "</div>"
      ],
      "text/plain": [
       "               decade_ratios  Avg. 1998  Avg. 2018  1998 Rank  2018 Rank  \\\n",
       "decade_ratios       1.000000  -0.049768   0.229301   0.263250  -0.243441   \n",
       "Avg. 1998          -0.049768   1.000000   0.956985  -0.844792  -0.779372   \n",
       "Avg. 2018           0.229301   0.956985   1.000000  -0.737560  -0.801982   \n",
       "1998 Rank           0.263250  -0.844792  -0.737560   1.000000   0.841276   \n",
       "2018 Rank          -0.243441  -0.779372  -0.801982   0.841276   1.000000   \n",
       "Rank Jump           0.899304  -0.116111   0.114339   0.281713  -0.281713   \n",
       "\n",
       "               Rank Jump  \n",
       "decade_ratios   0.899304  \n",
       "Avg. 1998      -0.116111  \n",
       "Avg. 2018       0.114339  \n",
       "1998 Rank       0.281713  \n",
       "2018 Rank      -0.281713  \n",
       "Rank Jump       1.000000  "
      ]
     },
     "execution_count": 69,
     "metadata": {},
     "output_type": "execute_result"
    }
   ],
   "source": [
    "rankings.corr()"
   ]
  },
  {
   "cell_type": "markdown",
   "metadata": {},
   "source": [
    "Does change in racial make-up of borough effect housing price increase (or housing price as a value)? Note: Can only do from 2012-2017. Not sure if it's enough of a sample size. Looking at correlation. Will have to attempt at a later time if still interested. "
   ]
  },
  {
   "cell_type": "markdown",
   "metadata": {
    "colab_type": "text",
    "id": "NzYUI7FxJpgv"
   },
   "source": [
    "### 4. Conclusion\n",
    "What can you conclude? Type out your conclusion below. \n",
    "\n",
    "Look back at your notebook. Think about how you might summarize what you have done, and prepare a quick presentation on it to your mentor at your next meeting. \n",
    "\n",
    "We hope you enjoyed this practical project. It should have consolidated your data hygiene and pandas skills by looking at a real-world problem involving just the kind of dataset you might encounter as a budding data scientist. Congratulations, and looking forward to seeing you at the next step in the course! "
   ]
  },
  {
   "cell_type": "markdown",
   "metadata": {},
   "source": [
    "Hackney had the largest increase in housing price from 1998 to 2018, largely due to being rather undesireable in 1998 to much more desireable in 2018 (with desireability simply defined as cost of housing in the area). Between the 2 decades, it jumped 16 spots in the rankings of desireability. Further, Inner London has seen the largest increases while Outer London is skewed towards the lower ratios. "
   ]
  }
 ],
 "metadata": {
  "colab": {
   "collapsed_sections": [],
   "name": "Springboard Data Science Career Track Unit 4 Challenge - Tier 3 Complete .ipynb",
   "provenance": []
  },
  "kernelspec": {
   "display_name": "Python 3",
   "language": "python",
   "name": "python3"
  },
  "language_info": {
   "codemirror_mode": {
    "name": "ipython",
    "version": 3
   },
   "file_extension": ".py",
   "mimetype": "text/x-python",
   "name": "python",
   "nbconvert_exporter": "python",
   "pygments_lexer": "ipython3",
   "version": "3.8.3"
  }
 },
 "nbformat": 4,
 "nbformat_minor": 4
}
